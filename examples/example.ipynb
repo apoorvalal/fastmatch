{
 "cells": [
  {
   "cell_type": "code",
   "execution_count": 1,
   "metadata": {},
   "outputs": [],
   "source": [
    "import numpy as np\n",
    "import pandas as pd\n",
    "\n",
    "from fastmatch import fastmatch\n",
    "from sklearn.linear_model import LinearRegression\n"
   ]
  },
  {
   "cell_type": "code",
   "execution_count": 2,
   "metadata": {},
   "outputs": [
    {
     "data": {
      "text/plain": [
       "(1510.8629707547334, 693.1519202024411)"
      ]
     },
     "execution_count": 2,
     "metadata": {},
     "output_type": "execute_result"
    }
   ],
   "source": [
    "lalonde_obs = pd.read_parquet(\"lalonde_obs.parquet\")\n",
    "w, y = lalonde_obs.treatment.values, lalonde_obs.earnings1978.values\n",
    "X = lalonde_obs.drop(columns=[\"treatment\", \"earnings1978\"]).values\n",
    "\n",
    "omod = LinearRegression()\n",
    "m = fastmatch.matching(\"ATT\", k = 5, bias_corr_mod = omod)\n",
    "m.fit(y, w, X)\n"
   ]
  },
  {
   "cell_type": "code",
   "execution_count": 3,
   "metadata": {},
   "outputs": [],
   "source": [
    "lalonde_exp = pd.read_parquet(\"lalonde_exp.parquet\")\n",
    "w, y = lalonde_exp.treatment.values, lalonde_exp.earnings1978.values\n",
    "X = lalonde_exp.drop(columns=[\"treatment\", \"earnings1978\"]).values\n"
   ]
  },
  {
   "cell_type": "code",
   "execution_count": 4,
   "metadata": {},
   "outputs": [
    {
     "data": {
      "text/plain": [
       "(1624.4637368736983, 611.5369266216896)"
      ]
     },
     "execution_count": 4,
     "metadata": {},
     "output_type": "execute_result"
    }
   ],
   "source": [
    "\n",
    "omod = LinearRegression()\n",
    "m = fastmatch.matching(\"ATE\", k = 5, bias_corr_mod = omod)\n",
    "m.fit(y, w, X)\n"
   ]
  }
 ],
 "metadata": {
  "kernelspec": {
   "display_name": "metrics",
   "language": "python",
   "name": "python3"
  },
  "language_info": {
   "codemirror_mode": {
    "name": "ipython",
    "version": 3
   },
   "file_extension": ".py",
   "mimetype": "text/x-python",
   "name": "python",
   "nbconvert_exporter": "python",
   "pygments_lexer": "ipython3",
   "version": "3.11.5"
  }
 },
 "nbformat": 4,
 "nbformat_minor": 2
}
